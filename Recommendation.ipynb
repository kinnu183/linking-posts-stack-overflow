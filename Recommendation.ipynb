{
 "cells": [
  {
   "cell_type": "code",
   "execution_count": 6,
   "metadata": {},
   "outputs": [],
   "source": [
    "import warnings\n",
    "warnings.filterwarnings(action='ignore', category=UserWarning, module='gensim')\n",
    "import gensim\n",
    "import numpy as np\n",
    "import nltk\n",
    "from nltk.corpus import stopwords\n",
    "from nltk.stem import SnowballStemmer\n",
    "import re\n",
    "from gensim import utils\n",
    "from gensim.models.doc2vec import TaggedDocument\n",
    "from gensim.models import Doc2Vec\n",
    "from sklearn.metrics.pairwise import cosine_similarity\n",
    "from sklearn.feature_extraction.text import TfidfVectorizer\n",
    "from gensim.models import TfidfModel\n",
    "from gensim.corpora import Dictionary\n",
    "from sklearn.feature_extraction.text import HashingVectorizer  \n",
    "from nltk.tokenize import word_tokenize\n",
    "from nltk.stem.lancaster import LancasterStemmer\n",
    "from nltk.stem import WordNetLemmatizer\n",
    "import nltk.data\n",
    "from sklearn.metrics.pairwise import cosine_similarity\n",
    "import time\n",
    "import pandas as pd\n",
    "\n",
    "\n",
    "data = pd.read_csv(\"../example/Posts.csv\")\n",
    "filteredData = data.dropna()\n",
    "filteredData = filteredData.head(100000)"
   ]
  },
  {
   "cell_type": "code",
   "execution_count": 7,
   "metadata": {},
   "outputs": [
    {
     "name": "stdout",
     "output_type": "stream",
     "text": [
      "100000\n"
     ]
    }
   ],
   "source": [
    "print(len(filteredData))"
   ]
  },
  {
   "cell_type": "code",
   "execution_count": 8,
   "metadata": {},
   "outputs": [],
   "source": [
    "def preprocessing(document):\n",
    "    document_tokenized = [word.lower() for word in word_tokenize(document)]\n",
    "    english_stopwords = stopwords.words('english')\n",
    "    document_stopwords = [word for word in document_tokenized if word not in english_stopwords]\n",
    "    english_punctuations = [\":\",\".\",\"\\n\",\"/\",\"@\", \"\\\\\",\"*\",\"=\",\"^\",\";\",\"_\",\"|\",\n",
    "                               '\"',\"' \",\" '\",\"-\",\n",
    "                               \"(\",\")\",\",\",\">\",\"<\",\n",
    "                               \"!\",\"?\",\"[\",\"]\",\"+\",\n",
    "                               \"&\",\"%\",\"$\",\"#\",\"~\",\"{\",\"}\"]\n",
    "    document_filtered = [word for word in document_stopwords if not word in english_punctuations]\n",
    "    st = WordNetLemmatizer()\n",
    "    document_stem = [st.lemmatize(word) for word in document_filtered]\n",
    "    return document_stem"
   ]
  },
  {
   "cell_type": "code",
   "execution_count": 10,
   "metadata": {},
   "outputs": [
    {
     "data": {
      "text/html": [
       "<div>\n",
       "<style scoped>\n",
       "    .dataframe tbody tr th:only-of-type {\n",
       "        vertical-align: middle;\n",
       "    }\n",
       "\n",
       "    .dataframe tbody tr th {\n",
       "        vertical-align: top;\n",
       "    }\n",
       "\n",
       "    .dataframe thead th {\n",
       "        text-align: right;\n",
       "    }\n",
       "</style>\n",
       "<table border=\"1\" class=\"dataframe\">\n",
       "  <thead>\n",
       "    <tr style=\"text-align: right;\">\n",
       "      <th></th>\n",
       "      <th>Id</th>\n",
       "      <th>Body</th>\n",
       "      <th>Title</th>\n",
       "      <th>PostTypeId</th>\n",
       "      <th>Tags</th>\n",
       "      <th>CreationDate</th>\n",
       "      <th>tokenized_title</th>\n",
       "    </tr>\n",
       "  </thead>\n",
       "  <tbody>\n",
       "    <tr>\n",
       "      <th>0</th>\n",
       "      <td>337</td>\n",
       "      <td>&lt;p&gt;I am about to build a piece of a project th...</td>\n",
       "      <td>XML Processing in Python</td>\n",
       "      <td>1</td>\n",
       "      <td>&lt;python&gt;&lt;xml&gt;</td>\n",
       "      <td>2008-08-02T03:35:55.697</td>\n",
       "      <td>[xml, processing, python, p, build, piece, pro...</td>\n",
       "    </tr>\n",
       "    <tr>\n",
       "      <th>1</th>\n",
       "      <td>469</td>\n",
       "      <td>&lt;p&gt;I am using the Photoshop's javascript API t...</td>\n",
       "      <td>How can I find the full path to a font from it...</td>\n",
       "      <td>1</td>\n",
       "      <td>&lt;python&gt;&lt;macos&gt;&lt;fonts&gt;&lt;photoshop&gt;</td>\n",
       "      <td>2008-08-02T15:11:16.430</td>\n",
       "      <td>[find, full, path, font, display, name, mac, p...</td>\n",
       "    </tr>\n",
       "    <tr>\n",
       "      <th>2</th>\n",
       "      <td>502</td>\n",
       "      <td>&lt;p&gt;I have a cross-platform (Python) applicatio...</td>\n",
       "      <td>Get a preview JPEG of a PDF on Windows?</td>\n",
       "      <td>1</td>\n",
       "      <td>&lt;python&gt;&lt;windows&gt;&lt;image&gt;&lt;pdf&gt;</td>\n",
       "      <td>2008-08-02T17:01:58.500</td>\n",
       "      <td>[get, preview, jpeg, pdf, window, p, cross-pla...</td>\n",
       "    </tr>\n",
       "    <tr>\n",
       "      <th>3</th>\n",
       "      <td>535</td>\n",
       "      <td>&lt;p&gt;I am starting to work on a hobby project wi...</td>\n",
       "      <td>Continuous Integration System for a Python Cod...</td>\n",
       "      <td>1</td>\n",
       "      <td>&lt;python&gt;&lt;continuous-integration&gt;&lt;extreme-progr...</td>\n",
       "      <td>2008-08-02T18:43:54.787</td>\n",
       "      <td>[continuous, integration, system, python, code...</td>\n",
       "    </tr>\n",
       "    <tr>\n",
       "      <th>4</th>\n",
       "      <td>594</td>\n",
       "      <td>&lt;p&gt;There are several ways to iterate over a re...</td>\n",
       "      <td>cx_Oracle: How do I iterate over a result set?</td>\n",
       "      <td>1</td>\n",
       "      <td>&lt;python&gt;&lt;sql&gt;&lt;database&gt;&lt;oracle&gt;&lt;cx-oracle&gt;</td>\n",
       "      <td>2008-08-03T01:15:08.507</td>\n",
       "      <td>[cx_oracle, iterate, result, set, p, several, ...</td>\n",
       "    </tr>\n",
       "  </tbody>\n",
       "</table>\n",
       "</div>"
      ],
      "text/plain": [
       "    Id                                               Body  \\\n",
       "0  337  <p>I am about to build a piece of a project th...   \n",
       "1  469  <p>I am using the Photoshop's javascript API t...   \n",
       "2  502  <p>I have a cross-platform (Python) applicatio...   \n",
       "3  535  <p>I am starting to work on a hobby project wi...   \n",
       "4  594  <p>There are several ways to iterate over a re...   \n",
       "\n",
       "                                               Title  PostTypeId  \\\n",
       "0                           XML Processing in Python           1   \n",
       "1  How can I find the full path to a font from it...           1   \n",
       "2            Get a preview JPEG of a PDF on Windows?           1   \n",
       "3  Continuous Integration System for a Python Cod...           1   \n",
       "4     cx_Oracle: How do I iterate over a result set?           1   \n",
       "\n",
       "                                                Tags             CreationDate  \\\n",
       "0                                      <python><xml>  2008-08-02T03:35:55.697   \n",
       "1                  <python><macos><fonts><photoshop>  2008-08-02T15:11:16.430   \n",
       "2                      <python><windows><image><pdf>  2008-08-02T17:01:58.500   \n",
       "3  <python><continuous-integration><extreme-progr...  2008-08-02T18:43:54.787   \n",
       "4         <python><sql><database><oracle><cx-oracle>  2008-08-03T01:15:08.507   \n",
       "\n",
       "                                     tokenized_title  \n",
       "0  [xml, processing, python, p, build, piece, pro...  \n",
       "1  [find, full, path, font, display, name, mac, p...  \n",
       "2  [get, preview, jpeg, pdf, window, p, cross-pla...  \n",
       "3  [continuous, integration, system, python, code...  \n",
       "4  [cx_oracle, iterate, result, set, p, several, ...  "
      ]
     },
     "execution_count": 10,
     "metadata": {},
     "output_type": "execute_result"
    }
   ],
   "source": [
    "combinedText = []\n",
    "for i in filteredData.index:\n",
    "    combinedText.append(preprocessing(str(filteredData['Title'][i]) + \" \" + str(filteredData['Body'][i])))\n",
    "filteredData['tokenized_title'] = combinedText\n",
    "\n",
    "filteredData.head()"
   ]
  },
  {
   "cell_type": "code",
   "execution_count": 48,
   "metadata": {},
   "outputs": [],
   "source": [
    "def sent_to_words(sentences):\n",
    "    for sentence in sentences:\n",
    "        yield(gensim.utils.simple_preprocess(str(sentence), deacc=True))  # deacc=True removes punctuations\n",
    "\n",
    "list_of_token_text = list(sent_to_words(filteredData.tokenized_title))\n",
    "\n",
    "#tag each document \n",
    "documents = [TaggedDocument(doc, [i]) for i, doc in enumerate(list_of_token_text)]\n",
    "model = Doc2Vec(documents, vector_size=300, window=1, \n",
    "                min_count=3, workers=4, dm=1, alpha = 0.025,\n",
    "                sample= 0.01, dm_concat = 1, dbow_words = 1)"
   ]
  },
  {
   "cell_type": "code",
   "execution_count": 49,
   "metadata": {},
   "outputs": [],
   "source": [
    "model.save(\"model_python.model\")"
   ]
  },
  {
   "cell_type": "code",
   "execution_count": 50,
   "metadata": {},
   "outputs": [
    {
     "name": "stderr",
     "output_type": "stream",
     "text": [
      "<ipython-input-50-b98daff648c9>:1: DeprecationWarning: Call to deprecated `most_similar` (Method will be removed in 4.0.0, use self.wv.most_similar() instead).\n",
      "  model.most_similar('csv')\n"
     ]
    },
    {
     "data": {
      "text/plain": [
       "[('xlsx', 0.6371369361877441),\n",
       " ('arff', 0.6267968416213989),\n",
       " ('tsv', 0.6184749603271484),\n",
       " ('setfilename', 0.6038820147514343),\n",
       " ('writerow', 0.6034927368164062),\n",
       " ('fasta', 0.6022167205810547),\n",
       " ('writerows', 0.600684642791748),\n",
       " ('xls', 0.5995669364929199),\n",
       " ('mzmlfile', 0.5915812849998474),\n",
       " ('dbf', 0.5912301540374756)]"
      ]
     },
     "execution_count": 50,
     "metadata": {},
     "output_type": "execute_result"
    }
   ],
   "source": [
    "model.most_similar('csv')"
   ]
  },
  {
   "cell_type": "code",
   "execution_count": 72,
   "metadata": {},
   "outputs": [
    {
     "name": "stdout",
     "output_type": "stream",
     "text": [
      "insert title: converting dataframe to csv\n"
     ]
    }
   ],
   "source": [
    "title_input = input('insert title: ')"
   ]
  },
  {
   "cell_type": "code",
   "execution_count": 73,
   "metadata": {},
   "outputs": [
    {
     "name": "stdout",
     "output_type": "stream",
     "text": [
      "insert body: How to convert a dataframe to csv in python? I am writing a code for my project and I need to convert the final dataframe to csv. Help me with this\n"
     ]
    }
   ],
   "source": [
    "body_input = input('insert body: ')"
   ]
  },
  {
   "cell_type": "code",
   "execution_count": 74,
   "metadata": {},
   "outputs": [],
   "source": [
    "test_input = title_input + \" \" + body_input\n",
    "test_input = preprocessing(test_input)\n",
    "print(test_input)"
   ]
  },
  {
   "cell_type": "code",
   "execution_count": 77,
   "metadata": {},
   "outputs": [],
   "source": [
    "test_vector = model.infer_vector(test_input)\n",
    "top_10_similar_cases = model.docvecs.most_similar(positive = [test_vector])"
   ]
  },
  {
   "cell_type": "code",
   "execution_count": 78,
   "metadata": {},
   "outputs": [
    {
     "data": {
      "text/plain": [
       "[(78816, 0.8335731029510498),\n",
       " (71724, 0.8242760896682739),\n",
       " (59697, 0.799890398979187),\n",
       " (73593, 0.7849682569503784),\n",
       " (69899, 0.7679417133331299),\n",
       " (81209, 0.763658881187439),\n",
       " (41900, 0.7624362707138062),\n",
       " (84149, 0.7607098817825317),\n",
       " (73921, 0.7558774948120117),\n",
       " (34332, 0.7543465495109558)]"
      ]
     },
     "execution_count": 78,
     "metadata": {},
     "output_type": "execute_result"
    }
   ],
   "source": [
    "top_10_similar_cases"
   ]
  },
  {
   "cell_type": "code",
   "execution_count": 79,
   "metadata": {},
   "outputs": [
    {
     "data": {
      "text/plain": [
       "Id                                                           8017003\n",
       "Body               <p>I have multiple csv files with date as file...\n",
       "Title              extract rows and filenames from multiple csv f...\n",
       "PostTypeId                                                         1\n",
       "Tags                                                        <python>\n",
       "CreationDate                                 2011-11-04T23:41:37.783\n",
       "tokenized_title    [extract, row, filename, multiple, csv, file, ...\n",
       "Name: 78816, dtype: object"
      ]
     },
     "execution_count": 79,
     "metadata": {},
     "output_type": "execute_result"
    }
   ],
   "source": [
    "filteredData.loc[78816]"
   ]
  },
  {
   "cell_type": "code",
   "execution_count": 80,
   "metadata": {},
   "outputs": [
    {
     "data": {
      "text/html": [
       "<div>\n",
       "<style scoped>\n",
       "    .dataframe tbody tr th:only-of-type {\n",
       "        vertical-align: middle;\n",
       "    }\n",
       "\n",
       "    .dataframe tbody tr th {\n",
       "        vertical-align: top;\n",
       "    }\n",
       "\n",
       "    .dataframe thead th {\n",
       "        text-align: right;\n",
       "    }\n",
       "</style>\n",
       "<table border=\"1\" class=\"dataframe\">\n",
       "  <thead>\n",
       "    <tr style=\"text-align: right;\">\n",
       "      <th></th>\n",
       "      <th>0</th>\n",
       "      <th>1</th>\n",
       "      <th>2</th>\n",
       "      <th>3</th>\n",
       "      <th>4</th>\n",
       "      <th>5</th>\n",
       "      <th>6</th>\n",
       "      <th>7</th>\n",
       "      <th>8</th>\n",
       "      <th>9</th>\n",
       "      <th>...</th>\n",
       "      <th>290</th>\n",
       "      <th>291</th>\n",
       "      <th>292</th>\n",
       "      <th>293</th>\n",
       "      <th>294</th>\n",
       "      <th>295</th>\n",
       "      <th>296</th>\n",
       "      <th>297</th>\n",
       "      <th>298</th>\n",
       "      <th>299</th>\n",
       "    </tr>\n",
       "  </thead>\n",
       "  <tbody>\n",
       "    <tr>\n",
       "      <th>0</th>\n",
       "      <td>0.010838</td>\n",
       "      <td>0.071314</td>\n",
       "      <td>-0.054018</td>\n",
       "      <td>-0.00636</td>\n",
       "      <td>-0.004932</td>\n",
       "      <td>-0.089266</td>\n",
       "      <td>-0.025502</td>\n",
       "      <td>0.019232</td>\n",
       "      <td>0.054464</td>\n",
       "      <td>-0.063888</td>\n",
       "      <td>...</td>\n",
       "      <td>0.018162</td>\n",
       "      <td>0.02409</td>\n",
       "      <td>0.046676</td>\n",
       "      <td>-0.06126</td>\n",
       "      <td>0.011804</td>\n",
       "      <td>-0.021072</td>\n",
       "      <td>-0.013837</td>\n",
       "      <td>-0.018841</td>\n",
       "      <td>-0.038895</td>\n",
       "      <td>0.010559</td>\n",
       "    </tr>\n",
       "  </tbody>\n",
       "</table>\n",
       "<p>1 rows × 300 columns</p>\n",
       "</div>"
      ],
      "text/plain": [
       "        0         1         2        3         4         5         6    \\\n",
       "0  0.010838  0.071314 -0.054018 -0.00636 -0.004932 -0.089266 -0.025502   \n",
       "\n",
       "        7         8         9    ...       290      291       292      293  \\\n",
       "0  0.019232  0.054464 -0.063888  ...  0.018162  0.02409  0.046676 -0.06126   \n",
       "\n",
       "        294       295       296       297       298       299  \n",
       "0  0.011804 -0.021072 -0.013837 -0.018841 -0.038895  0.010559  \n",
       "\n",
       "[1 rows x 300 columns]"
      ]
     },
     "execution_count": 80,
     "metadata": {},
     "output_type": "execute_result"
    }
   ],
   "source": [
    "input_vector = pd.DataFrame(test_vector).T\n",
    "input_vector"
   ]
  },
  {
   "cell_type": "code",
   "execution_count": 81,
   "metadata": {},
   "outputs": [
    {
     "data": {
      "text/plain": [
       "100000"
      ]
     },
     "execution_count": 81,
     "metadata": {},
     "output_type": "execute_result"
    }
   ],
   "source": [
    "def docvec_df(model_docvecs):\n",
    "    _list = []\n",
    "\n",
    "    for i in range(len(model_docvecs)):\n",
    "        test = pd.DataFrame({filteredData['Id'][i]: list(model_docvecs[i])}).T\n",
    "        _list.append(test)\n",
    "    vec_features = pd.concat(_list, sort = False)\n",
    "    return vec_features\n",
    "\n",
    "vec_features = docvec_df(model.docvecs)\n",
    "len(vec_features)"
   ]
  },
  {
   "cell_type": "code",
   "execution_count": 71,
   "metadata": {},
   "outputs": [
    {
     "data": {
      "text/html": [
       "<div>\n",
       "<style scoped>\n",
       "    .dataframe tbody tr th:only-of-type {\n",
       "        vertical-align: middle;\n",
       "    }\n",
       "\n",
       "    .dataframe tbody tr th {\n",
       "        vertical-align: top;\n",
       "    }\n",
       "\n",
       "    .dataframe thead th {\n",
       "        text-align: right;\n",
       "    }\n",
       "</style>\n",
       "<table border=\"1\" class=\"dataframe\">\n",
       "  <thead>\n",
       "    <tr style=\"text-align: right;\">\n",
       "      <th></th>\n",
       "      <th>Id</th>\n",
       "      <th>Body</th>\n",
       "      <th>Title</th>\n",
       "      <th>Tags</th>\n",
       "      <th>0</th>\n",
       "      <th>1</th>\n",
       "      <th>2</th>\n",
       "      <th>3</th>\n",
       "      <th>4</th>\n",
       "      <th>5</th>\n",
       "      <th>...</th>\n",
       "      <th>290</th>\n",
       "      <th>291</th>\n",
       "      <th>292</th>\n",
       "      <th>293</th>\n",
       "      <th>294</th>\n",
       "      <th>295</th>\n",
       "      <th>296</th>\n",
       "      <th>297</th>\n",
       "      <th>298</th>\n",
       "      <th>299</th>\n",
       "    </tr>\n",
       "  </thead>\n",
       "  <tbody>\n",
       "    <tr>\n",
       "      <th>0</th>\n",
       "      <td>337</td>\n",
       "      <td>&lt;p&gt;I am about to build a piece of a project th...</td>\n",
       "      <td>XML Processing in Python</td>\n",
       "      <td>&lt;python&gt;&lt;xml&gt;</td>\n",
       "      <td>-0.048378</td>\n",
       "      <td>-0.020845</td>\n",
       "      <td>0.059406</td>\n",
       "      <td>0.057848</td>\n",
       "      <td>-0.008877</td>\n",
       "      <td>-0.033015</td>\n",
       "      <td>...</td>\n",
       "      <td>-0.005876</td>\n",
       "      <td>-0.093567</td>\n",
       "      <td>-0.034488</td>\n",
       "      <td>0.090274</td>\n",
       "      <td>0.014248</td>\n",
       "      <td>-0.065532</td>\n",
       "      <td>0.047374</td>\n",
       "      <td>0.002935</td>\n",
       "      <td>-0.086508</td>\n",
       "      <td>0.038541</td>\n",
       "    </tr>\n",
       "    <tr>\n",
       "      <th>1</th>\n",
       "      <td>469</td>\n",
       "      <td>&lt;p&gt;I am using the Photoshop's javascript API t...</td>\n",
       "      <td>How can I find the full path to a font from it...</td>\n",
       "      <td>&lt;python&gt;&lt;macos&gt;&lt;fonts&gt;&lt;photoshop&gt;</td>\n",
       "      <td>-0.002558</td>\n",
       "      <td>0.008075</td>\n",
       "      <td>-0.049802</td>\n",
       "      <td>-0.061378</td>\n",
       "      <td>0.049353</td>\n",
       "      <td>-0.008179</td>\n",
       "      <td>...</td>\n",
       "      <td>0.008325</td>\n",
       "      <td>-0.009423</td>\n",
       "      <td>-0.001977</td>\n",
       "      <td>-0.003825</td>\n",
       "      <td>0.023986</td>\n",
       "      <td>-0.017957</td>\n",
       "      <td>0.015383</td>\n",
       "      <td>-0.035583</td>\n",
       "      <td>-0.037617</td>\n",
       "      <td>0.050355</td>\n",
       "    </tr>\n",
       "    <tr>\n",
       "      <th>2</th>\n",
       "      <td>502</td>\n",
       "      <td>&lt;p&gt;I have a cross-platform (Python) applicatio...</td>\n",
       "      <td>Get a preview JPEG of a PDF on Windows?</td>\n",
       "      <td>&lt;python&gt;&lt;windows&gt;&lt;image&gt;&lt;pdf&gt;</td>\n",
       "      <td>0.017404</td>\n",
       "      <td>-0.008267</td>\n",
       "      <td>-0.006037</td>\n",
       "      <td>-0.013714</td>\n",
       "      <td>-0.002447</td>\n",
       "      <td>0.006771</td>\n",
       "      <td>...</td>\n",
       "      <td>0.015238</td>\n",
       "      <td>0.027567</td>\n",
       "      <td>0.013050</td>\n",
       "      <td>-0.002594</td>\n",
       "      <td>0.002021</td>\n",
       "      <td>-0.005508</td>\n",
       "      <td>0.004993</td>\n",
       "      <td>-0.011718</td>\n",
       "      <td>-0.022531</td>\n",
       "      <td>-0.007890</td>\n",
       "    </tr>\n",
       "    <tr>\n",
       "      <th>3</th>\n",
       "      <td>535</td>\n",
       "      <td>&lt;p&gt;I am starting to work on a hobby project wi...</td>\n",
       "      <td>Continuous Integration System for a Python Cod...</td>\n",
       "      <td>&lt;python&gt;&lt;continuous-integration&gt;&lt;extreme-progr...</td>\n",
       "      <td>0.020759</td>\n",
       "      <td>-0.021543</td>\n",
       "      <td>0.014009</td>\n",
       "      <td>0.082930</td>\n",
       "      <td>-0.021083</td>\n",
       "      <td>0.061195</td>\n",
       "      <td>...</td>\n",
       "      <td>-0.005847</td>\n",
       "      <td>-0.010222</td>\n",
       "      <td>-0.063366</td>\n",
       "      <td>-0.007810</td>\n",
       "      <td>-0.046421</td>\n",
       "      <td>-0.007288</td>\n",
       "      <td>-0.029695</td>\n",
       "      <td>-0.023490</td>\n",
       "      <td>-0.007652</td>\n",
       "      <td>-0.017613</td>\n",
       "    </tr>\n",
       "    <tr>\n",
       "      <th>4</th>\n",
       "      <td>594</td>\n",
       "      <td>&lt;p&gt;There are several ways to iterate over a re...</td>\n",
       "      <td>cx_Oracle: How do I iterate over a result set?</td>\n",
       "      <td>&lt;python&gt;&lt;sql&gt;&lt;database&gt;&lt;oracle&gt;&lt;cx-oracle&gt;</td>\n",
       "      <td>0.011252</td>\n",
       "      <td>-0.014213</td>\n",
       "      <td>0.011663</td>\n",
       "      <td>0.016671</td>\n",
       "      <td>-0.006552</td>\n",
       "      <td>0.008019</td>\n",
       "      <td>...</td>\n",
       "      <td>-0.002264</td>\n",
       "      <td>-0.007547</td>\n",
       "      <td>-0.049933</td>\n",
       "      <td>-0.005684</td>\n",
       "      <td>0.008609</td>\n",
       "      <td>0.008770</td>\n",
       "      <td>-0.013789</td>\n",
       "      <td>0.001499</td>\n",
       "      <td>0.004562</td>\n",
       "      <td>-0.010704</td>\n",
       "    </tr>\n",
       "    <tr>\n",
       "      <th>5</th>\n",
       "      <td>683</td>\n",
       "      <td>&lt;p&gt;I don't remember whether I was dreaming or ...</td>\n",
       "      <td>Using 'in' to match an attribute of Python obj...</td>\n",
       "      <td>&lt;python&gt;&lt;arrays&gt;&lt;iteration&gt;</td>\n",
       "      <td>0.007278</td>\n",
       "      <td>0.018393</td>\n",
       "      <td>-0.005057</td>\n",
       "      <td>-0.008562</td>\n",
       "      <td>0.018065</td>\n",
       "      <td>-0.016673</td>\n",
       "      <td>...</td>\n",
       "      <td>-0.018648</td>\n",
       "      <td>-0.045594</td>\n",
       "      <td>0.010066</td>\n",
       "      <td>0.014921</td>\n",
       "      <td>0.027960</td>\n",
       "      <td>-0.048843</td>\n",
       "      <td>0.047510</td>\n",
       "      <td>-0.026387</td>\n",
       "      <td>-0.013070</td>\n",
       "      <td>0.024393</td>\n",
       "    </tr>\n",
       "    <tr>\n",
       "      <th>6</th>\n",
       "      <td>742</td>\n",
       "      <td>&lt;p&gt;&lt;a href=\"http://www.djangoproject.com/\" rel...</td>\n",
       "      <td>Class views in Django</td>\n",
       "      <td>&lt;python&gt;&lt;django&gt;&lt;views&gt;&lt;oop&gt;</td>\n",
       "      <td>0.058449</td>\n",
       "      <td>0.027613</td>\n",
       "      <td>0.057108</td>\n",
       "      <td>0.011944</td>\n",
       "      <td>-0.044126</td>\n",
       "      <td>-0.024858</td>\n",
       "      <td>...</td>\n",
       "      <td>0.033327</td>\n",
       "      <td>-0.026627</td>\n",
       "      <td>0.011803</td>\n",
       "      <td>0.031923</td>\n",
       "      <td>0.015948</td>\n",
       "      <td>-0.033443</td>\n",
       "      <td>0.016341</td>\n",
       "      <td>-0.052953</td>\n",
       "      <td>0.001644</td>\n",
       "      <td>-0.044841</td>\n",
       "    </tr>\n",
       "    <tr>\n",
       "      <th>7</th>\n",
       "      <td>766</td>\n",
       "      <td>&lt;p&gt;I can get Python to work with Postgresql bu...</td>\n",
       "      <td>Python and MySQL</td>\n",
       "      <td>&lt;python&gt;&lt;mysql&gt;&lt;postgresql&gt;&lt;bpgsql&gt;</td>\n",
       "      <td>-0.014341</td>\n",
       "      <td>0.063906</td>\n",
       "      <td>-0.017396</td>\n",
       "      <td>0.012907</td>\n",
       "      <td>0.006384</td>\n",
       "      <td>-0.043317</td>\n",
       "      <td>...</td>\n",
       "      <td>0.067454</td>\n",
       "      <td>0.041959</td>\n",
       "      <td>0.018359</td>\n",
       "      <td>-0.014951</td>\n",
       "      <td>-0.068077</td>\n",
       "      <td>-0.035006</td>\n",
       "      <td>0.014361</td>\n",
       "      <td>0.029623</td>\n",
       "      <td>-0.051724</td>\n",
       "      <td>0.010504</td>\n",
       "    </tr>\n",
       "    <tr>\n",
       "      <th>8</th>\n",
       "      <td>773</td>\n",
       "      <td>&lt;p&gt;I haven't been able to find an understandab...</td>\n",
       "      <td>How do I use itertools.groupby()?</td>\n",
       "      <td>&lt;python&gt;&lt;itertools&gt;</td>\n",
       "      <td>-0.022084</td>\n",
       "      <td>-0.025721</td>\n",
       "      <td>0.059906</td>\n",
       "      <td>0.023810</td>\n",
       "      <td>-0.019359</td>\n",
       "      <td>0.030699</td>\n",
       "      <td>...</td>\n",
       "      <td>-0.040804</td>\n",
       "      <td>-0.051035</td>\n",
       "      <td>-0.104519</td>\n",
       "      <td>-0.015990</td>\n",
       "      <td>0.072669</td>\n",
       "      <td>0.075164</td>\n",
       "      <td>0.041267</td>\n",
       "      <td>-0.000903</td>\n",
       "      <td>-0.048877</td>\n",
       "      <td>0.019911</td>\n",
       "    </tr>\n",
       "    <tr>\n",
       "      <th>9</th>\n",
       "      <td>972</td>\n",
       "      <td>&lt;p&gt;I've read that it is possible to add a meth...</td>\n",
       "      <td>Adding a Method to an Existing Object Instance</td>\n",
       "      <td>&lt;python&gt;&lt;oop&gt;&lt;methods&gt;&lt;monkeypatching&gt;</td>\n",
       "      <td>0.005406</td>\n",
       "      <td>0.001405</td>\n",
       "      <td>0.000752</td>\n",
       "      <td>0.001426</td>\n",
       "      <td>0.003016</td>\n",
       "      <td>0.034402</td>\n",
       "      <td>...</td>\n",
       "      <td>0.007185</td>\n",
       "      <td>-0.014266</td>\n",
       "      <td>-0.004597</td>\n",
       "      <td>0.037441</td>\n",
       "      <td>-0.011545</td>\n",
       "      <td>-0.005326</td>\n",
       "      <td>0.005223</td>\n",
       "      <td>-0.012364</td>\n",
       "      <td>0.016210</td>\n",
       "      <td>0.012479</td>\n",
       "    </tr>\n",
       "  </tbody>\n",
       "</table>\n",
       "<p>10 rows × 304 columns</p>\n",
       "</div>"
      ],
      "text/plain": [
       "    Id                                               Body  \\\n",
       "0  337  <p>I am about to build a piece of a project th...   \n",
       "1  469  <p>I am using the Photoshop's javascript API t...   \n",
       "2  502  <p>I have a cross-platform (Python) applicatio...   \n",
       "3  535  <p>I am starting to work on a hobby project wi...   \n",
       "4  594  <p>There are several ways to iterate over a re...   \n",
       "5  683  <p>I don't remember whether I was dreaming or ...   \n",
       "6  742  <p><a href=\"http://www.djangoproject.com/\" rel...   \n",
       "7  766  <p>I can get Python to work with Postgresql bu...   \n",
       "8  773  <p>I haven't been able to find an understandab...   \n",
       "9  972  <p>I've read that it is possible to add a meth...   \n",
       "\n",
       "                                               Title  \\\n",
       "0                           XML Processing in Python   \n",
       "1  How can I find the full path to a font from it...   \n",
       "2            Get a preview JPEG of a PDF on Windows?   \n",
       "3  Continuous Integration System for a Python Cod...   \n",
       "4     cx_Oracle: How do I iterate over a result set?   \n",
       "5  Using 'in' to match an attribute of Python obj...   \n",
       "6                              Class views in Django   \n",
       "7                                   Python and MySQL   \n",
       "8                  How do I use itertools.groupby()?   \n",
       "9     Adding a Method to an Existing Object Instance   \n",
       "\n",
       "                                                Tags         0         1  \\\n",
       "0                                      <python><xml> -0.048378 -0.020845   \n",
       "1                  <python><macos><fonts><photoshop> -0.002558  0.008075   \n",
       "2                      <python><windows><image><pdf>  0.017404 -0.008267   \n",
       "3  <python><continuous-integration><extreme-progr...  0.020759 -0.021543   \n",
       "4         <python><sql><database><oracle><cx-oracle>  0.011252 -0.014213   \n",
       "5                        <python><arrays><iteration>  0.007278  0.018393   \n",
       "6                       <python><django><views><oop>  0.058449  0.027613   \n",
       "7                <python><mysql><postgresql><bpgsql> -0.014341  0.063906   \n",
       "8                                <python><itertools> -0.022084 -0.025721   \n",
       "9             <python><oop><methods><monkeypatching>  0.005406  0.001405   \n",
       "\n",
       "          2         3         4         5  ...       290       291       292  \\\n",
       "0  0.059406  0.057848 -0.008877 -0.033015  ... -0.005876 -0.093567 -0.034488   \n",
       "1 -0.049802 -0.061378  0.049353 -0.008179  ...  0.008325 -0.009423 -0.001977   \n",
       "2 -0.006037 -0.013714 -0.002447  0.006771  ...  0.015238  0.027567  0.013050   \n",
       "3  0.014009  0.082930 -0.021083  0.061195  ... -0.005847 -0.010222 -0.063366   \n",
       "4  0.011663  0.016671 -0.006552  0.008019  ... -0.002264 -0.007547 -0.049933   \n",
       "5 -0.005057 -0.008562  0.018065 -0.016673  ... -0.018648 -0.045594  0.010066   \n",
       "6  0.057108  0.011944 -0.044126 -0.024858  ...  0.033327 -0.026627  0.011803   \n",
       "7 -0.017396  0.012907  0.006384 -0.043317  ...  0.067454  0.041959  0.018359   \n",
       "8  0.059906  0.023810 -0.019359  0.030699  ... -0.040804 -0.051035 -0.104519   \n",
       "9  0.000752  0.001426  0.003016  0.034402  ...  0.007185 -0.014266 -0.004597   \n",
       "\n",
       "        293       294       295       296       297       298       299  \n",
       "0  0.090274  0.014248 -0.065532  0.047374  0.002935 -0.086508  0.038541  \n",
       "1 -0.003825  0.023986 -0.017957  0.015383 -0.035583 -0.037617  0.050355  \n",
       "2 -0.002594  0.002021 -0.005508  0.004993 -0.011718 -0.022531 -0.007890  \n",
       "3 -0.007810 -0.046421 -0.007288 -0.029695 -0.023490 -0.007652 -0.017613  \n",
       "4 -0.005684  0.008609  0.008770 -0.013789  0.001499  0.004562 -0.010704  \n",
       "5  0.014921  0.027960 -0.048843  0.047510 -0.026387 -0.013070  0.024393  \n",
       "6  0.031923  0.015948 -0.033443  0.016341 -0.052953  0.001644 -0.044841  \n",
       "7 -0.014951 -0.068077 -0.035006  0.014361  0.029623 -0.051724  0.010504  \n",
       "8 -0.015990  0.072669  0.075164  0.041267 -0.000903 -0.048877  0.019911  \n",
       "9  0.037441 -0.011545 -0.005326  0.005223 -0.012364  0.016210  0.012479  \n",
       "\n",
       "[10 rows x 304 columns]"
      ]
     },
     "execution_count": 71,
     "metadata": {},
     "output_type": "execute_result"
    }
   ],
   "source": [
    "feature_df = filteredData.drop(columns = ['PostTypeId', 'CreationDate', 'tokenized_title'])\n",
    "def combine_df(df1, df2):\n",
    "    combined_df = feature_df.merge(vec_features, left_on='Id', right_index= True, copy=False)\n",
    "    return combined_df\n",
    "\n",
    "combined_df = combine_df(feature_df, vec_features)\n",
    "combined_df.head(10)"
   ]
  },
  {
   "cell_type": "code",
   "execution_count": 39,
   "metadata": {},
   "outputs": [],
   "source": [
    "def cosine_text_similarity(text_vector, combined_df, clean_data_df):\n",
    "\n",
    "    text_similarity = cosine_similarity(combined_df.iloc[:, 4:], text_vector)\n",
    "    rec_df = pd.DataFrame({'Id': clean_data_df['Id'], 'similarity': list(text_similarity)})\n",
    "    rec_df['similarity'] = rec_df['similarity'].apply(lambda x: x[0])\n",
    "    rec_df = rec_df.sort_values(by = 'similarity', ascending=False).reset_index().loc[0:15]\n",
    "    rec_df.drop(['index'], axis = 1, inplace = True)\n",
    "\n",
    "    _ids = []\n",
    "    for i in rec_df['Id']:\n",
    "        _ids.append(i)\n",
    "\n",
    "    #print(_ids)\n",
    "    _index_values = []\n",
    "    for i in _ids:\n",
    "        temp = (str(clean_data_df.loc[clean_data_df['Id'] == f'{i}']['Title']))\n",
    "        temp2 = temp.split()[0]\n",
    "        _index_values.append(int(temp2))\n",
    "\n",
    "    case_list = []\n",
    "    for j, i in enumerate(_index_values):\n",
    "        case_list.append(f\"{j+1} -- {clean_data_df['Title'][i]}\")       \n",
    "\n",
    "        case_list.append(f\"{clean_data_df['Body'][i]}\")\n",
    "        \n",
    "    \n",
    "    return(case_list)"
   ]
  },
  {
   "cell_type": "code",
   "execution_count": 40,
   "metadata": {},
   "outputs": [],
   "source": [
    "text = cosine_text_similarity(input_vector, combined_df, filteredData)"
   ]
  },
  {
   "cell_type": "code",
   "execution_count": 41,
   "metadata": {},
   "outputs": [
    {
     "data": {
      "text/plain": [
       "'1 -- How to add an xml-stylesheet processing instruction node with Python 2.6 and minidom?'"
      ]
     },
     "execution_count": 41,
     "metadata": {},
     "output_type": "execute_result"
    }
   ],
   "source": [
    "text[0]"
   ]
  },
  {
   "cell_type": "code",
   "execution_count": 42,
   "metadata": {},
   "outputs": [
    {
     "data": {
      "text/plain": [
       "'<p>I\\'m creating an XML document using minidom - how do I ensure my resultant XML document contains a stylesheet reference like this:</p>\\r\\n\\r\\n<pre><code>&lt;?xml-stylesheet type=\"text/xsl\" href=\"mystyle.xslt\"?&gt;\\r\\n</code></pre>\\r\\n\\r\\n<p>Thanks !</p>\\r\\n'"
      ]
     },
     "execution_count": 42,
     "metadata": {},
     "output_type": "execute_result"
    }
   ],
   "source": [
    "text[1]"
   ]
  },
  {
   "cell_type": "code",
   "execution_count": 43,
   "metadata": {},
   "outputs": [
    {
     "data": {
      "text/plain": [
       "'2 -- Validating a yaml document in python'"
      ]
     },
     "execution_count": 43,
     "metadata": {},
     "output_type": "execute_result"
    }
   ],
   "source": [
    "text[2]"
   ]
  },
  {
   "cell_type": "code",
   "execution_count": 44,
   "metadata": {},
   "outputs": [
    {
     "data": {
      "text/plain": [
       "\"<p>One of the benefits of XML is being able to validate a document against an XSD. YAML doesn't have this feature, so how can I validate that the YAML document I open is in the format expected by my application?</p>\\r\\n\""
      ]
     },
     "execution_count": 44,
     "metadata": {},
     "output_type": "execute_result"
    }
   ],
   "source": [
    "text[3]"
   ]
  },
  {
   "cell_type": "code",
   "execution_count": null,
   "metadata": {},
   "outputs": [],
   "source": []
  }
 ],
 "metadata": {
  "kernelspec": {
   "display_name": "Python 3",
   "language": "python",
   "name": "python3"
  },
  "language_info": {
   "codemirror_mode": {
    "name": "ipython",
    "version": 3
   },
   "file_extension": ".py",
   "mimetype": "text/x-python",
   "name": "python",
   "nbconvert_exporter": "python",
   "pygments_lexer": "ipython3",
   "version": "3.8.5"
  }
 },
 "nbformat": 4,
 "nbformat_minor": 4
}
