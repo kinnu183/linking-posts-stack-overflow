{
 "cells": [
  {
   "cell_type": "code",
   "execution_count": 1,
   "metadata": {},
   "outputs": [],
   "source": [
    "def getCountOfLinks(body):\n",
    "    internalUrls = []\n",
    "    internaltoSEUrls = []\n",
    "    externalUrls = []\n",
    "    urls = extractor.find_urls(body)\n",
    "    for i in range(0,len(urls)):\n",
    "        if(\"stackoverflow\" in urls[i].lower()):\n",
    "            internalUrls.append(urls[i].lower())\n",
    "        elif(\"stackexchange\" in urls[i].lower()):\n",
    "            internaltoSEUrls.append(urls[i].lower())\n",
    "        else:\n",
    "            externalUrls.append(urls[i].lower())\n",
    "    return [internalUrls, internaltoSEUrls, externalUrls]"
   ]
  },
  {
   "cell_type": "code",
   "execution_count": 2,
   "metadata": {},
   "outputs": [],
   "source": [
    "from urllib.parse import urlparse\n",
    "def getDomainsOfExternalLinks(externalUrls):\n",
    "    domainDict = {}\n",
    "    for i in range(0, len(externalUrls)):\n",
    "        if not (externalUrls[i].startswith('//') or externalUrls[i].startswith('http://') or externalUrls[i].startswith('https://')):\n",
    "            externalUrls[i] = '//' + externalUrls[i]\n",
    "        domain = urlparse(externalUrls[i]).netloc\n",
    "        domain = domain.lower()\n",
    "        if domain in domainDict.keys(): \n",
    "            existingCount = domainDict[domain] + 1\n",
    "            domainDict.update({domain: existingCount})\n",
    "        else: \n",
    "            domainDict[domain] = 1\n",
    "    return domainDict"
   ]
  },
  {
   "cell_type": "code",
   "execution_count": 7,
   "metadata": {},
   "outputs": [
    {
     "name": "stdout",
     "output_type": "stream",
     "text": [
      "Batch completed\n",
      "Batch completed\n",
      "Batch completed\n",
      "Batch completed\n",
      "Batch completed\n",
      "Batch completed\n",
      "Batch completed\n",
      "Batch completed\n",
      "Batch completed\n",
      "Batch completed\n",
      "Batch completed\n",
      "Batch completed\n",
      "Batch completed\n",
      "Batch completed\n",
      "Batch completed\n",
      "Batch completed\n",
      "Batch completed\n",
      "Batch completed\n",
      "Batch completed\n",
      "Batch completed\n",
      "Batch completed\n",
      "Batch completed\n",
      "Batch completed\n",
      "Batch completed\n",
      "Batch completed\n",
      "Batch completed\n",
      "Batch completed\n",
      "Batch completed\n",
      "Batch completed\n",
      "Batch completed\n",
      "Batch completed\n",
      "Batch completed\n",
      "Batch completed\n",
      "Batch completed\n",
      "Batch completed\n",
      "Batch completed\n",
      "Batch completed\n",
      "Batch completed\n",
      "Batch completed\n",
      "Batch completed\n",
      "Batch completed\n",
      "Batch completed\n",
      "Batch completed\n",
      "Batch completed\n",
      "Batch completed\n",
      "Batch completed\n",
      "Batch completed\n",
      "Batch completed\n",
      "Batch completed\n",
      "Batch completed\n",
      "Batch completed\n",
      "Batch completed\n",
      "Batch completed\n",
      "Batch completed\n",
      "Batch completed\n",
      "Batch completed\n",
      "Batch completed\n",
      "Batch completed\n",
      "Batch completed\n",
      "Batch completed\n",
      "Batch completed\n",
      "Batch completed\n",
      "Batch completed\n",
      "Batch completed\n",
      "Batch completed\n",
      "Batch completed\n",
      "Batch completed\n",
      "Batch completed\n",
      "Batch completed\n",
      "Batch completed\n",
      "Batch completed\n",
      "Batch completed\n",
      "Batch completed\n",
      "Batch completed\n",
      "Batch completed\n",
      "Batch completed\n",
      "Batch completed\n",
      "Batch completed\n",
      "Batch completed\n",
      "Batch completed\n",
      "Batch completed\n",
      "Batch completed\n",
      "Batch completed\n",
      "Batch completed\n",
      "Batch completed\n",
      "Batch completed\n",
      "Batch completed\n",
      "Batch completed\n",
      "Batch completed\n",
      "Batch completed\n",
      "Batch completed\n",
      "Batch completed\n",
      "Batch completed\n",
      "Batch completed\n",
      "Batch completed\n",
      "Batch completed\n",
      "Batch completed\n",
      "Batch completed\n",
      "Batch completed\n",
      "Batch completed\n",
      "All batches completed\n"
     ]
    }
   ],
   "source": [
    "import re\n",
    "from urlextract import URLExtract\n",
    "import pandas as pd\n",
    "import numpy as np\n",
    "\n",
    "linksInQuesCount = 0\n",
    "linksInAnsCount = 0\n",
    "extractor = URLExtract()\n",
    "internalUrlsInQues = []\n",
    "externalUrlsInQues = []\n",
    "internaltoSEUrlsInQues = []\n",
    "internalUrlsInAns = []\n",
    "externalUrlsInAns = []\n",
    "internaltoSEUrlsInAns = []\n",
    "\n",
    "def _removeNonAscii(text):\n",
    "    return \"\".join([i if ord(i) < 128 else ' ' for i in text])\n",
    "    \n",
    "for posts in pd.read_csv(\"../example/PostsForLinkAnalysis.csv\", chunksize = 50000):\n",
    "    ques = posts[posts['PostTypeId'] == 1]\n",
    "    ans = posts[posts['PostTypeId'] == 2]\n",
    "    for i in ques.index:\n",
    "        try:\n",
    "            list1 = getCountOfLinks(_removeNonAscii(ques['Body'][i]))\n",
    "            internalUrlsInQues += list1[0]\n",
    "            internaltoSEUrlsInQues += list1[1]\n",
    "            externalUrlsInQues += list1[2]\n",
    "        except:\n",
    "            continue\n",
    "    for i in ans.index:\n",
    "        try:\n",
    "            list2 = getCountOfLinks(_removeNonAscii(ans['Body'][i]))\n",
    "            internalUrlsInAns += list2[0]\n",
    "            internaltoSEUrlsInAns += list2[1]\n",
    "            externalUrlsInAns += list2[2]\n",
    "        except:\n",
    "            continue\n",
    "    print('Batch completed')\n",
    "\n",
    "print('All batches completed')"
   ]
  },
  {
   "cell_type": "code",
   "execution_count": 8,
   "metadata": {},
   "outputs": [],
   "source": [
    "internalUrlsInQues = list(filter(None, internalUrlsInQues))\n",
    "internaltoSEUrlsInQues = list(filter(None, internaltoSEUrlsInQues))\n",
    "externalUrlsInQues = list(filter(None, externalUrlsInQues))\n",
    "linksInQuesCount = len(internalUrlsInQues) + len(internaltoSEUrlsInQues) + len(externalUrlsInQues)\n",
    "\n",
    "internalUrlsInAns = list(filter(None, internalUrlsInAns))\n",
    "internaltoSEUrlsInAns = list(filter(None, internaltoSEUrlsInAns))\n",
    "externalUrlsInAns = list(filter(None, externalUrlsInAns))\n",
    "linksInAnsCount = len(internalUrlsInAns) + len(internaltoSEUrlsInAns) + len(externalUrlsInAns)"
   ]
  },
  {
   "cell_type": "code",
   "execution_count": 5,
   "metadata": {},
   "outputs": [],
   "source": [
    "comments = pd.read_csv(\"../example/Comments.csv\")\n",
    "linksInCommentsCount = 0\n",
    "internalUrlsInComments = []\n",
    "externalUrlsInComments = []\n",
    "internaltoSEUrlsInComments = []\n",
    "for i in comments.index:\n",
    "    body = comments['Text'][i]\n",
    "    try:\n",
    "        urls = extractor.find_urls(_removeNonAscii(str(body)))\n",
    "        for i in range(0,len(urls)):\n",
    "            if(\"stackoverflow\" in urls[i]):\n",
    "                internalUrlsInComments.append(urls[i])\n",
    "            elif(\"stackexchange\" in urls[i]):\n",
    "                internaltoSEUrlsInComments.append(urls[i])\n",
    "            else:\n",
    "                externalUrlsInComments.append(urls[i])\n",
    "    except Exception:\n",
    "        continue\n",
    "internalUrlsInComments = list(filter(None, internalUrlsInComments))\n",
    "internaltoSEUrlsInComments = list(filter(None, internaltoSEUrlsInComments))\n",
    "externalUrlsInComments = list(filter(None, externalUrlsInComments))\n",
    "\n",
    "linksInCommentsCount = len(internalUrlsInComments) + len(internaltoSEUrlsInComments) + len(externalUrlsInComments)"
   ]
  },
  {
   "cell_type": "code",
   "execution_count": 9,
   "metadata": {},
   "outputs": [
    {
     "data": {
      "text/plain": [
       "Text(0.5, 0, 'Links in Comments')"
      ]
     },
     "execution_count": 9,
     "metadata": {},
     "output_type": "execute_result"
    },
    {
     "data": {
      "image/png": "[encoded data removed]",
      "text/plain": [
       "<Figure size 720x360 with 1 Axes>"
      ]
     },
     "metadata": {
      "needs_background": "light"
     },
     "output_type": "display_data"
    },
    {
     "data": {
      "image/png": "[encoded data removed]",
      "text/plain": [
       "<Figure size 720x360 with 1 Axes>"
      ]
     },
     "metadata": {
      "needs_background": "light"
     },
     "output_type": "display_data"
    },
    {
     "data": {
      "image/png": "[encoded data removed]",
      "text/plain": [
       "<Figure size 720x360 with 1 Axes>"
      ]
     },
     "metadata": {
      "needs_background": "light"
     },
     "output_type": "display_data"
    }
   ],
   "source": [
    "import matplotlib.pyplot as plt\n",
    "#Bar graph for categories\n",
    "#As internalToSEUrls are insignificant, they are not considered for the bar graph\n",
    "keys = ['Internal', 'External']\n",
    "totalInQues = len(internalUrlsInQues) + len(externalUrlsInQues)\n",
    "valueQues1 = round((len(internalUrlsInQues) / totalInQues) * 100, 2)\n",
    "valueQues2 = round((len(externalUrlsInQues) / totalInQues) * 100, 2)\n",
    "values = [valueQues1, valueQues2]\n",
    "plt.figure(figsize=(10, 5))\n",
    "plt.xticks(rotation=90)\n",
    "plt.bar(keys, values)\n",
    "plt.xlabel('Links in Questions')\n",
    "\n",
    "totalInAns = len(internalUrlsInAns) + len(externalUrlsInAns)\n",
    "valueAns1 = round((len(internalUrlsInAns) / totalInAns) * 100, 2)\n",
    "valueAns2 = round((len(externalUrlsInAns) / totalInAns) * 100, 2)\n",
    "values = [valueAns1, valueAns2]\n",
    "plt.figure(figsize=(10, 5))\n",
    "plt.xticks(rotation=90)\n",
    "plt.bar(keys, values)\n",
    "plt.xlabel('Links in Answers')\n",
    "\n",
    "totalInComments = len(internalUrlsInComments) + len(externalUrlsInComments)\n",
    "valueComments1 = round((len(internalUrlsInComments) / totalInComments) * 100, 2)\n",
    "valueComments2 = round((len(externalUrlsInComments) / totalInComments) * 100, 2)\n",
    "values = [valueComments1, valueComments2]\n",
    "plt.figure(figsize=(10, 5))\n",
    "plt.xticks(rotation=90)\n",
    "plt.bar(keys, values)\n",
    "plt.xlabel('Links in Comments')"
   ]
  },
  {
   "cell_type": "code",
   "execution_count": 10,
   "metadata": {},
   "outputs": [
    {
     "data": {
      "text/plain": [
       "<BarContainer object of 20 artists>"
      ]
     },
     "execution_count": 10,
     "metadata": {},
     "output_type": "execute_result"
    },
    {
     "data": {
      "image/png": "[encoded data removed]",
      "text/plain": [
       "<Figure size 720x360 with 1 Axes>"
      ]
     },
     "metadata": {
      "needs_background": "light"
     },
     "output_type": "display_data"
    }
   ],
   "source": [
    "totalExternalLinks = []\n",
    "for i in range(0, len(externalUrlsInQues)):\n",
    "    totalExternalLinks.append(externalUrlsInQues[i])\n",
    "for i in range(0, len(externalUrlsInAns)):\n",
    "    totalExternalLinks.append(externalUrlsInAns[i])\n",
    "for i in range(0, len(externalUrlsInComments)):\n",
    "    totalExternalLinks.append(externalUrlsInComments[i])\n",
    "\n",
    "domainDict = getDomainsOfExternalLinks(totalExternalLinks)\n",
    "\n",
    "top20Domains= dict(sorted(domainDict.items(), key = lambda item: item[1], reverse=True)[:20])\n",
    "\n",
    "#Bar graph of top 20 domains in external links\n",
    "keys = top20Domains.keys()\n",
    "values = top20Domains.values()\n",
    "plt.figure(figsize=(10, 5))\n",
    "plt.xticks(rotation=90)\n",
    "plt.bar(keys, values)"
   ]
  },
  {
   "cell_type": "code",
   "execution_count": 8,
   "metadata": {},
   "outputs": [
    {
     "data": {
      "text/plain": [
       "([<matplotlib.patches.Wedge at 0x280abcfa520>,\n",
       "  <matplotlib.patches.Wedge at 0x280abcfaaf0>,\n",
       "  <matplotlib.patches.Wedge at 0x280abce01c0>],\n",
       " [Text(0.8985584827053631, 0.6345018937388885, 'Ques'),\n",
       "  Text(-1.0969250853751702, 0.08219097927799514, 'Ans'),\n",
       "  Text(0.8486373458499934, -0.6998675983560597, 'Comments')],\n",
       " [Text(0.4901228087483798, 0.34609194203939375, '19.6%'),\n",
       "  Text(-0.5983227738410019, 0.0448314432425428, '58.5%'),\n",
       "  Text(0.46289309773636, -0.3817459627396689, '22.0%')])"
      ]
     },
     "execution_count": 8,
     "metadata": {},
     "output_type": "execute_result"
    },
    {
     "data": {
      "image/png": "[encoded data removed]",
      "text/plain": [
       "<Figure size 720x360 with 1 Axes>"
      ]
     },
     "metadata": {},
     "output_type": "display_data"
    }
   ],
   "source": [
    "#Logic to get percent of links in questions, answers and comments\n",
    "total = linksInQuesCount + linksInAnsCount + linksInCommentsCount\n",
    "dictOfPercen = {'Ques' : (linksInQuesCount/total)*100,\n",
    "              'Ans' : (linksInAnsCount/total)*100,\n",
    "              'Comments' : (linksInCommentsCount/total)*100}\n",
    "keys = dictOfPercen.keys()\n",
    "values = dictOfPercen.values()\n",
    "plt.figure(figsize=(10, 5))\n",
    "plt.xticks(rotation=90)\n",
    "plt.pie(values,  labels = keys, autopct='%1.1f%%',)"
   ]
  },
  {
   "cell_type": "code",
   "execution_count": 22,
   "metadata": {},
   "outputs": [
    {
     "data": {
      "text/plain": [
       "[['https://stackoverflow.com/a/39713544/1450294'], [], []]"
      ]
     },
     "execution_count": 22,
     "metadata": {},
     "output_type": "execute_result"
    }
   ],
   "source": [
    "getCountOfLinks(_removeNonAscii(\"<p>Just use the <code>--python</code> (or short <code>-p</code>) option when creating your virtualenv instance to specify the Python executable you want to use, e.g.:</p> <pre><code>virtualenv --python=/usr/bin/python2.6 &lt;path/to/new/virtualenv/&gt; </code></pre> <p>N.B. For <strong>Python 3.3</strong> or later, refer to The Aelfinn's <a href='https://stackoverflow.com/a/39713544/1450294'>answer</a> below.</p>\"))"
   ]
  },
  {
   "cell_type": "code",
   "execution_count": 11,
   "metadata": {},
   "outputs": [
    {
     "data": {
      "text/plain": [
       "([<matplotlib.patches.Wedge at 0x22705f03310>,\n",
       "  <matplotlib.patches.Wedge at 0x22705f03a00>,\n",
       "  <matplotlib.patches.Wedge at 0x22705f0d0d0>],\n",
       " [Text(0.7512983217508826, 0.803461779883964, 'Ques'),\n",
       "  Text(-0.9801014161751986, -0.49940085503668313, 'Ans'),\n",
       "  Text(1.0341800182104142, -0.374795530835558, 'Comments')],\n",
       " [Text(0.40979908459139053, 0.4382518799367076, '26.1%'),\n",
       "  Text(-0.5346007724591992, -0.2724004663836453, '62.9%'),\n",
       "  Text(0.5640981917511348, -0.20443392591030435, '11.1%')])"
      ]
     },
     "execution_count": 11,
     "metadata": {},
     "output_type": "execute_result"
    },
    {
     "data": {
      "image/png": "[encoded data removed]",
      "text/plain": [
       "<Figure size 720x360 with 1 Axes>"
      ]
     },
     "metadata": {},
     "output_type": "display_data"
    }
   ],
   "source": [
    "#Logic to get percent of links in questions, answers and comments\n",
    "total = linksInQuesCount + linksInAnsCount + linksInCommentsCount\n",
    "dictOfPercen = {'Ques' : (linksInQuesCount/total)*100,\n",
    "              'Ans' : (linksInAnsCount/total)*100,\n",
    "              'Comments' : (linksInCommentsCount/total)*100}\n",
    "keys = dictOfPercen.keys()\n",
    "values = dictOfPercen.values()\n",
    "plt.figure(figsize=(10, 5))\n",
    "plt.xticks(rotation=90)\n",
    "plt.pie(values,  labels = keys, autopct='%1.1f%%',)"
   ]
  },
  {
   "cell_type": "code",
   "execution_count": null,
   "metadata": {},
   "outputs": [],
   "source": []
  }
 ],
 "metadata": {
  "kernelspec": {
   "display_name": "Python 3",
   "language": "python",
   "name": "python3"
  },
  "language_info": {
   "codemirror_mode": {
    "name": "ipython",
    "version": 3
   },
   "file_extension": ".py",
   "mimetype": "text/x-python",
   "name": "python",
   "nbconvert_exporter": "python",
   "pygments_lexer": "ipython3",
   "version": "3.8.5"
  }
 },
 "nbformat": 4,
 "nbformat_minor": 4
}
